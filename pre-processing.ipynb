{
 "cells": [
  {
   "cell_type": "code",
   "execution_count": 18,
   "metadata": {},
   "outputs": [],
   "source": [
    "import json\n",
    "import subprocess\n",
    "from pathlib import Path\n",
    "import geopandas as gpd\n",
    "from tqdm.auto import tqdm\n",
    "from tqdm.contrib.concurrent import thread_map\n",
    "from pdal import Reader, Filter, Writer, Pipeline"
   ]
  },
  {
   "cell_type": "code",
   "execution_count": 19,
   "metadata": {},
   "outputs": [],
   "source": [
    "def run_pdal(pipeline: Pipeline, pipe_name=\"pdal\", args = []):\n",
    "    # don't use the PDAL pythonb bindings to run the pipeline, but make an external command call\n",
    "    # this is because the PDAL python bindings are not thread safe\n",
    "    # and they have the tendency to crash the python interpreter, while if they are a separate process there is no problem\n",
    "    # for this use case we don't need to pass data between the python code and the PDAL pipeline so it pefectly fine to use the command line interface\n",
    "    with open(f\"pipeline_{pipe_name}.json\", \"w\") as f:\n",
    "        json.dump(pipeline.toJSON(), f)\n",
    "    cmd = [\"pdal\", \"pipeline\", f\"pipeline_{pipe_name}.json\"]\n",
    "    cmd.extend(args)\n",
    "    subprocess.run(cmd, check=True)"
   ]
  },
  {
   "cell_type": "markdown",
   "metadata": {},
   "source": [
    "# Processing steps"
   ]
  },
  {
   "cell_type": "code",
   "execution_count": 20,
   "metadata": {},
   "outputs": [],
   "source": [
    "base_dir = Path(\"/run/media/simone/Extreme SSD/spanish-lidar/lidar_cant\")"
   ]
  },
  {
   "cell_type": "code",
   "execution_count": 21,
   "metadata": {},
   "outputs": [],
   "source": [
    "raw_dir = base_dir / \"0_raw_lidar\"\n",
    "denoise_dir = base_dir / \"1_denoised_lidar\"\n",
    "ground_dir = base_dir / \"2_ground_lidar\"\n",
    "dtm_dir = base_dir / \"3_dtm_raster\"\n",
    "norm_dir = base_dir / \"4_norm_lidar\"\n",
    "chm_dir = base_dir / \"5_chm_raster\"\n",
    "\n",
    "# create directories\n",
    "raw_dir.mkdir(exist_ok=True)\n",
    "denoise_dir.mkdir(exist_ok=True)\n",
    "ground_dir.mkdir(exist_ok=True)\n",
    "dtm_dir.mkdir(exist_ok=True)\n",
    "norm_dir.mkdir(exist_ok=True)\n",
    "chm_dir.mkdir(exist_ok=True)"
   ]
  },
  {
   "cell_type": "markdown",
   "metadata": {},
   "source": [
    "## 0) Create raw tindex"
   ]
  },
  {
   "cell_type": "code",
   "execution_count": 22,
   "metadata": {},
   "outputs": [],
   "source": [
    "file_spec = str(raw_dir / \"*.laz\")"
   ]
  },
  {
   "cell_type": "code",
   "execution_count": 23,
   "metadata": {},
   "outputs": [
    {
     "name": "stdout",
     "output_type": "stream",
     "text": [
      "^C\n"
     ]
    }
   ],
   "source": [
    "!pdal tindex create -f GPKG raw_tindex.gpkg --filespec \"{file_spec}\""
   ]
  },
  {
   "cell_type": "code",
   "execution_count": 24,
   "metadata": {},
   "outputs": [],
   "source": [
    "raw_tindex = gpd.read_file(\"raw_tindex.gpkg\")"
   ]
  },
  {
   "cell_type": "markdown",
   "metadata": {},
   "source": [
    "## 1) Denoise "
   ]
  },
  {
   "cell_type": "code",
   "execution_count": 25,
   "metadata": {},
   "outputs": [],
   "source": [
    "cloud_raw = Path(raw_tindex.iloc[0].location)"
   ]
  },
  {
   "cell_type": "code",
   "execution_count": 26,
   "metadata": {},
   "outputs": [],
   "source": [
    "cloud_denoise = denoise_dir / f\"denoise_{cloud_raw.stem}.copc.laz\""
   ]
  },
  {
   "cell_type": "code",
   "execution_count": 27,
   "metadata": {},
   "outputs": [],
   "source": [
    "denoise_pipe = Pipeline([\n",
    "    Reader.las(cloud_raw),\n",
    "    Filter.outlier(method=\"radius\", radius=1.5, min_k=20), # we expect density of 5 points per square meter, \n",
    "    Filter.expression(expression=\"Classification!=7\"),\n",
    "    Writer.copc(cloud_denoise)\n",
    "])"
   ]
  },
  {
   "cell_type": "code",
   "execution_count": 29,
   "metadata": {},
   "outputs": [
    {
     "data": {
      "text/plain": [
       "'[{\"type\": \"readers.las\", \"filename\": \"/run/media/simone/Extreme SSD/spanish-lidar/lidar_cant/lidar_raw_0/PNOA_2023_CANT_376-4775_NPC02.laz\", \"tag\": \"readers_las1\"}, {\"type\": \"filters.outlier\", \"method\": \"radius\", \"radius\": 1.5, \"min_k\": 20, \"tag\": \"filters_outlier1\"}, {\"type\": \"filters.expression\", \"expression\": \"Classification!=7\", \"tag\": \"filters_expression1\"}, {\"type\": \"writers.copc\", \"filename\": \"/run/media/simone/Extreme SSD/spanish-lidar/lidar_cant/1_denoised_lidar/denoise_PNOA_2023_CANT_376-4775_NPC02.copc.laz\", \"tag\": \"writers_copc1\"}]'"
      ]
     },
     "execution_count": 29,
     "metadata": {},
     "output_type": "execute_result"
    }
   ],
   "source": [
    "denoise_pipe.toJSON()"
   ]
  },
  {
   "cell_type": "code",
   "execution_count": 28,
   "metadata": {},
   "outputs": [
    {
     "name": "stderr",
     "output_type": "stream",
     "text": [
      "PDAL: Pipeline: root element is not a pipeline.\n",
      "\n"
     ]
    },
    {
     "ename": "CalledProcessError",
     "evalue": "Command '['pdal', 'pipeline', 'pipeline_denoise.json']' returned non-zero exit status 1.",
     "output_type": "error",
     "traceback": [
      "\u001b[31m---------------------------------------------------------------------------\u001b[39m",
      "\u001b[31mCalledProcessError\u001b[39m                        Traceback (most recent call last)",
      "\u001b[36mCell\u001b[39m\u001b[36m \u001b[39m\u001b[32mIn[28]\u001b[39m\u001b[32m, line 1\u001b[39m\n\u001b[32m----> \u001b[39m\u001b[32m1\u001b[39m \u001b[43mrun_pdal\u001b[49m\u001b[43m(\u001b[49m\u001b[43mdenoise_pipe\u001b[49m\u001b[43m,\u001b[49m\u001b[43m \u001b[49m\u001b[33;43m\"\u001b[39;49m\u001b[33;43mdenoise\u001b[39;49m\u001b[33;43m\"\u001b[39;49m\u001b[43m)\u001b[49m\n",
      "\u001b[36mCell\u001b[39m\u001b[36m \u001b[39m\u001b[32mIn[19]\u001b[39m\u001b[32m, line 10\u001b[39m, in \u001b[36mrun_pdal\u001b[39m\u001b[34m(pipeline, pipe_name, args)\u001b[39m\n\u001b[32m      8\u001b[39m cmd = [\u001b[33m\"\u001b[39m\u001b[33mpdal\u001b[39m\u001b[33m\"\u001b[39m, \u001b[33m\"\u001b[39m\u001b[33mpipeline\u001b[39m\u001b[33m\"\u001b[39m, \u001b[33mf\u001b[39m\u001b[33m\"\u001b[39m\u001b[33mpipeline_\u001b[39m\u001b[38;5;132;01m{\u001b[39;00mpipe_name\u001b[38;5;132;01m}\u001b[39;00m\u001b[33m.json\u001b[39m\u001b[33m\"\u001b[39m]\n\u001b[32m      9\u001b[39m cmd.extend(args)\n\u001b[32m---> \u001b[39m\u001b[32m10\u001b[39m \u001b[43msubprocess\u001b[49m\u001b[43m.\u001b[49m\u001b[43mrun\u001b[49m\u001b[43m(\u001b[49m\u001b[43mcmd\u001b[49m\u001b[43m,\u001b[49m\u001b[43m \u001b[49m\u001b[43mcheck\u001b[49m\u001b[43m=\u001b[49m\u001b[38;5;28;43;01mTrue\u001b[39;49;00m\u001b[43m)\u001b[49m\n",
      "\u001b[36mFile \u001b[39m\u001b[32m~/development/spanish-lidar/.pixi/envs/default/lib/python3.13/subprocess.py:579\u001b[39m, in \u001b[36mrun\u001b[39m\u001b[34m(input, capture_output, timeout, check, *popenargs, **kwargs)\u001b[39m\n\u001b[32m    577\u001b[39m     retcode = process.poll()\n\u001b[32m    578\u001b[39m     \u001b[38;5;28;01mif\u001b[39;00m check \u001b[38;5;129;01mand\u001b[39;00m retcode:\n\u001b[32m--> \u001b[39m\u001b[32m579\u001b[39m         \u001b[38;5;28;01mraise\u001b[39;00m CalledProcessError(retcode, process.args,\n\u001b[32m    580\u001b[39m                                  output=stdout, stderr=stderr)\n\u001b[32m    581\u001b[39m \u001b[38;5;28;01mreturn\u001b[39;00m CompletedProcess(process.args, retcode, stdout, stderr)\n",
      "\u001b[31mCalledProcessError\u001b[39m: Command '['pdal', 'pipeline', 'pipeline_denoise.json']' returned non-zero exit status 1."
     ]
    }
   ],
   "source": [
    "run_pdal(denoise_pipe, \"denoise\")"
   ]
  },
  {
   "cell_type": "code",
   "execution_count": null,
   "metadata": {},
   "outputs": [],
   "source": []
  }
 ],
 "metadata": {
  "kernelspec": {
   "display_name": "default",
   "language": "python",
   "name": "python3"
  },
  "language_info": {
   "codemirror_mode": {
    "name": "ipython",
    "version": 3
   },
   "file_extension": ".py",
   "mimetype": "text/x-python",
   "name": "python",
   "nbconvert_exporter": "python",
   "pygments_lexer": "ipython3",
   "version": "3.13.2"
  }
 },
 "nbformat": 4,
 "nbformat_minor": 2
}
