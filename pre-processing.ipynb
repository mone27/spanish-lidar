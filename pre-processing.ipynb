{
 "cells": [
  {
   "cell_type": "code",
   "execution_count": 1,
   "metadata": {},
   "outputs": [],
   "source": [
    "import json\n",
    "import subprocess\n",
    "from pathlib import Path\n",
    "import geopandas as gpd\n",
    "from tqdm.auto import tqdm\n",
    "from tqdm.contrib.concurrent import thread_map\n",
    "from pdal import Reader, Filter, Writer, Pipeline\n",
    "from typing import Optional, Callable"
   ]
  },
  {
   "cell_type": "code",
   "execution_count": 2,
   "metadata": {},
   "outputs": [],
   "source": [
    "def run_pdal(pipeline: Pipeline, pipe_name=\"pdal\", args=[]):\n",
    "    # don't use the PDAL pythonb bindings to run the pipeline, but make an external command call\n",
    "    # this is because the PDAL python bindings are not thread safe\n",
    "    # and they have the tendency to crash the python interpreter, while if they are a separate process there is no problem\n",
    "    # for this use case we don't need to pass data between the python code and the PDAL pipeline so it pefectly fine to use the command line interface\n",
    "    # it also enables to have interrupts that actually work, while the PDAL python bindings block the python interpreter\n",
    "    with open(f\"pipeline_{pipe_name}.json\", \"w\") as f:\n",
    "        f.write(pipeline.toJSON())\n",
    "    cmd = [\"pdal\", \"pipeline\", f\"pipeline_{pipe_name}.json\"]\n",
    "    cmd.extend(args)\n",
    "    subprocess.run(cmd, check=True)"
   ]
  },
  {
   "cell_type": "markdown",
   "metadata": {},
   "source": [
    "# Processing steps"
   ]
  },
  {
   "cell_type": "code",
   "execution_count": 3,
   "metadata": {},
   "outputs": [],
   "source": [
    "base_dir = Path(\"/run/media/simone/Extreme SSD/spanish-lidar/lidar_cant\")"
   ]
  },
  {
   "cell_type": "code",
   "execution_count": 4,
   "metadata": {},
   "outputs": [],
   "source": [
    "raw_dir = base_dir / \"0_raw_lidar\"\n",
    "denoise_dir = base_dir / \"1_denoised_lidar\"\n",
    "ground_dir = base_dir / \"2_ground_lidar\"\n",
    "dtm_dir = base_dir / \"3_dtm_raster\"\n",
    "norm_dir = base_dir / \"4_norm_lidar\"\n",
    "chm_dir = base_dir / \"5_chm_raster\"\n",
    "\n",
    "# create directories\n",
    "raw_dir.mkdir(exist_ok=True)\n",
    "denoise_dir.mkdir(exist_ok=True)\n",
    "ground_dir.mkdir(exist_ok=True)\n",
    "dtm_dir.mkdir(exist_ok=True)\n",
    "norm_dir.mkdir(exist_ok=True)\n",
    "chm_dir.mkdir(exist_ok=True)"
   ]
  },
  {
   "cell_type": "markdown",
   "metadata": {},
   "source": [
    "## 0) Create raw tindex"
   ]
  },
  {
   "cell_type": "code",
   "execution_count": 5,
   "metadata": {},
   "outputs": [],
   "source": [
    "file_spec = str(raw_dir / \"*.laz\")\n",
    "raw_tindex_path = raw_dir / \"raw_tindex.gpkg\""
   ]
  },
  {
   "cell_type": "code",
   "execution_count": 6,
   "metadata": {},
   "outputs": [
    {
     "name": "stdout",
     "output_type": "stream",
     "text": [
      "Warning 1: A geometry of type MULTIPOLYGON is inserted into layer PNOA_2023_CANT_376-4775_NPC02 of geometry type POLYGON, which is not normally allowed by the GeoPackage specification, but the driver will however do it. To create a conformant GeoPackage, if using ogr2ogr, the -nlt option can be used to override the layer geometry type. This warning will no longer be emitted for this combination of layer and feature geometry type.\n"
     ]
    }
   ],
   "source": [
    "!pdal tindex create -f GPKG \"{str(raw_tindex_path)}\" --filespec \"{file_spec}\""
   ]
  },
  {
   "cell_type": "code",
   "execution_count": 6,
   "metadata": {},
   "outputs": [],
   "source": [
    "raw_tindex = gpd.read_file(raw_tindex_path)"
   ]
  },
  {
   "cell_type": "code",
   "execution_count": 7,
   "metadata": {},
   "outputs": [],
   "source": [
    "cloud_raw = Path(raw_tindex.iloc[0].location)"
   ]
  },
  {
   "cell_type": "markdown",
   "metadata": {},
   "source": [
    "## 1) Denoise "
   ]
  },
  {
   "cell_type": "code",
   "execution_count": 8,
   "metadata": {},
   "outputs": [],
   "source": [
    "cloud_denoise = denoise_dir / f\"denoise__{cloud_raw.stem}.copc.laz\""
   ]
  },
  {
   "cell_type": "code",
   "execution_count": 40,
   "metadata": {},
   "outputs": [],
   "source": [
    "denoise_pipe = Pipeline(\n",
    "    [\n",
    "        Reader.las(cloud_raw),\n",
    "        # Filter.outlier(\n",
    "        #     method=\"radius\", min_k=12, radius=2.0\n",
    "        # ),  \n",
    "        Filter.expression(expression=\"Classification!=7\"),\n",
    "        Writer.copc(cloud_denoise),\n",
    "    ]\n",
    ")"
   ]
  },
  {
   "cell_type": "code",
   "execution_count": 36,
   "metadata": {},
   "outputs": [],
   "source": [
    "run_pdal(denoise_pipe, \"denoise\")"
   ]
  },
  {
   "cell_type": "markdown",
   "metadata": {},
   "source": [
    "## 2) Ground"
   ]
  },
  {
   "cell_type": "code",
   "execution_count": 10,
   "metadata": {},
   "outputs": [],
   "source": [
    "cloud_ground = ground_dir / f\"ground__{cloud_raw.stem}.copc.laz\""
   ]
  },
  {
   "cell_type": "code",
   "execution_count": 11,
   "metadata": {},
   "outputs": [],
   "source": [
    "ground_pipe = Pipeline(\n",
    "    [\n",
    "        Reader.copc(cloud_denoise),\n",
    "        Filter.expression(expression=\"Classification==2\"),\n",
    "        Writer.copc(cloud_ground),\n",
    "    ]\n",
    ")"
   ]
  },
  {
   "cell_type": "code",
   "execution_count": 40,
   "metadata": {},
   "outputs": [],
   "source": [
    "run_pdal(ground_pipe, \"ground\")"
   ]
  },
  {
   "cell_type": "markdown",
   "metadata": {},
   "source": [
    "## 3) DTM"
   ]
  },
  {
   "cell_type": "code",
   "execution_count": 12,
   "metadata": {},
   "outputs": [],
   "source": [
    "cloud_dtm = dtm_dir / f\"dtm__{cloud_raw.stem}.tif\""
   ]
  },
  {
   "cell_type": "code",
   "execution_count": null,
   "metadata": {},
   "outputs": [],
   "source": [
    "dtm_pipe = Pipeline(\n",
    "    [\n",
    "        Reader.copc(cloud_ground),\n",
    "        Filter.delaunay(),\n",
    "        Filter.faceraster(resolution=1),\n",
    "        Writer.raster(\n",
    "            cloud_dtm#, gdalopts=\"COMPRESS=ZSTD\", nodata=\"NaN\", data_type=\"float32\"\n",
    "        ),\n",
    "    ]\n",
    ")"
   ]
  },
  {
   "cell_type": "code",
   "execution_count": 43,
   "metadata": {},
   "outputs": [],
   "source": [
    "run_pdal(dtm_pipe, \"dtm\")"
   ]
  },
  {
   "cell_type": "markdown",
   "metadata": {},
   "source": [
    "## 4) Normalization"
   ]
  },
  {
   "cell_type": "code",
   "execution_count": 29,
   "metadata": {},
   "outputs": [],
   "source": [
    "cloud_norm = norm_dir / f\"norm__{cloud_raw.stem}.copc.laz\"\n",
    "hag_dir = norm_dir / \"hag\"\n",
    "hag_dir.mkdir(exist_ok=True)\n",
    "cloud_hag = hag_dir / f\"hag__{cloud_raw.stem}.copc.laz\""
   ]
  },
  {
   "cell_type": "code",
   "execution_count": 45,
   "metadata": {},
   "outputs": [],
   "source": [
    "norm_pipe = Pipeline(\n",
    "    [\n",
    "        Reader.copc(cloud_ground),\n",
    "        # Filter.hag_dem(raster=cloud_dtm),\n",
    "        Filter.hag_delaunay(count=30),\n",
    "        Writer.copc(cloud_hag, tag=\"hag\", extra_dims=\"HeightAboveGround=float32\"),\n",
    "        Filter.ferry(dimensions=\"HeightAboveGround=>Z\"),\n",
    "        Filter.expression(\n",
    "            expression=\"Z >= 0 && Z <= 30\"\n",
    "        ),  # remove normalization artifacts\n",
    "        Writer.copc(cloud_norm),\n",
    "    ]\n",
    ")"
   ]
  },
  {
   "cell_type": "code",
   "execution_count": 31,
   "metadata": {},
   "outputs": [],
   "source": [
    "run_pdal(norm_pipe, \"norm\")"
   ]
  },
  {
   "cell_type": "markdown",
   "metadata": {},
   "source": [
    "## 5) CHM"
   ]
  },
  {
   "cell_type": "code",
   "execution_count": 16,
   "metadata": {},
   "outputs": [],
   "source": [
    "cloud_chm = chm_dir / f\"chm__{cloud_raw.stem}.tif\""
   ]
  },
  {
   "cell_type": "code",
   "execution_count": null,
   "metadata": {},
   "outputs": [],
   "source": [
    "chm_pipe = Pipeline(\n",
    "    [\n",
    "        Reader.copc(cloud_norm),\n",
    "        Writer.gdal(\n",
    "            filename=cloud_chm,\n",
    "            resolution=1,\n",
    "            output_type=\"max\",\n",
    "            # gdalopts=\"COMPRESS=ZSTD\",\n",
    "            # nodata=\"NaN\",\n",
    "            # data_type=\"float32\",\n",
    "        ),\n",
    "    ]\n",
    ")"
   ]
  },
  {
   "cell_type": "code",
   "execution_count": 49,
   "metadata": {},
   "outputs": [],
   "source": [
    "run_pdal(chm_pipe, \"chm\")"
   ]
  },
  {
   "cell_type": "markdown",
   "metadata": {},
   "source": [
    "# Run everything"
   ]
  },
  {
   "cell_type": "code",
   "execution_count": 55,
   "metadata": {},
   "outputs": [],
   "source": [
    "def process_tindex_parallel(\n",
    "    tindex: gpd.GeoDataFrame,\n",
    "    pipeline: Pipeline,\n",
    "    pipe_name: str,\n",
    "    out_dir: Path,\n",
    "    output_extension: str = \".copc.laz\",\n",
    "    input_command=\"--readers.copc.filename\",\n",
    "    output_command=\"--writers.copc.filename\",\n",
    "    extra_args: Optional[Callable[[str], str]] = None,\n",
    "    max_workers: int = 8\n",
    ") -> gpd.GeoDataFrame:\n",
    "    def process_row(row):\n",
    "        input_file = Path(row.location)\n",
    "        base_name = row.base_name\n",
    "        output_file = out_dir / f\"{pipe_name}__{base_name}{output_extension}\"\n",
    "        args = extra_args(base_name) if extra_args else []\n",
    "        if not output_file.exists():\n",
    "            try:\n",
    "                run_pdal(\n",
    "                    pipeline,\n",
    "                    pipe_name,\n",
    "                    [input_command, str(input_file), output_command, str(output_file), *args],\n",
    "                )\n",
    "            except subprocess.CalledProcessError as e:\n",
    "                print(f\"Error processing {input_file}: {e}\")\n",
    "        return output_file\n",
    "\n",
    "    output = thread_map(\n",
    "        process_row,\n",
    "        tindex.itertuples(),\n",
    "        desc=f\"Processing {pipe_name}\",\n",
    "        total=len(tindex),\n",
    "        max_workers=max_workers,\n",
    "    )\n",
    "    new_tindex = tindex.copy()\n",
    "    new_tindex[\"location\"] = output\n",
    "    return new_tindex"
   ]
  },
  {
   "cell_type": "code",
   "execution_count": 56,
   "metadata": {},
   "outputs": [],
   "source": [
    "def processing_pipeline(tindex, max_workers=8):\n",
    "    denoise_tindex = process_tindex_parallel(\n",
    "        tindex,\n",
    "        denoise_pipe,\n",
    "        \"denoise\",\n",
    "        denoise_dir,\n",
    "        input_command=\"--readers.las.filename\",\n",
    "        max_workers=max_workers\n",
    "    )\n",
    "    denoise_tindex.to_file(denoise_dir / \"denoise_tindex.gpkg\")\n",
    "    # denoise_tindex = gpd.read_file(denoise_dir / \"denoise_tindex.gpkg\")\n",
    "\n",
    "    ground_tindex = process_tindex_parallel(\n",
    "        denoise_tindex,\n",
    "        ground_pipe,\n",
    "        \"ground\",\n",
    "        ground_dir,\n",
    "        max_workers=max_workers\n",
    "    )\n",
    "    ground_tindex.to_file(ground_dir / \"ground_tindex.gpkg\")\n",
    "\n",
    "    dtm_tindex = process_tindex_parallel(\n",
    "        ground_tindex,\n",
    "        dtm_pipe,\n",
    "        \"dtm\",\n",
    "        dtm_dir,\n",
    "        output_extension=\".tif\",\n",
    "        output_command=\"--writers.raster.filename\",\n",
    "        max_workers=max_workers\n",
    "    )\n",
    "    dtm_tindex.to_file(ground_dir / \"dtm_tindex.gpkg\")\n",
    "\n",
    "    norm_tindex = process_tindex_parallel(\n",
    "        denoise_tindex,\n",
    "        norm_pipe,\n",
    "        \"norm\",\n",
    "        norm_dir,\n",
    "        extra_args = lambda base_name: [\n",
    "            # f\"--filters.hag_dem.raster={dtm_dir / f'dtm__{base_name}.tif'}]\",\n",
    "              \"--stage.hag.filename\", str(hag_dir / f\"hag__{base_name}.copc.laz\")],\n",
    "        max_workers=max_workers\n",
    "    )\n",
    "    norm_tindex.to_file(norm_dir / \"norm_tindex.gpkg\")\n",
    "\n",
    "    chm_tindex = process_tindex_parallel(\n",
    "        norm_tindex,\n",
    "        chm_pipe,\n",
    "        \"chm\",\n",
    "        chm_dir,\n",
    "        output_extension=\".tif\",\n",
    "        output_command=\"--writers.gdal.filename\",\n",
    "        max_workers=max_workers\n",
    "    )\n",
    "    chm_tindex.to_file(chm_dir / \"chm_tindex.gpkg\")\n",
    "    "
   ]
  },
  {
   "cell_type": "code",
   "execution_count": 48,
   "metadata": {},
   "outputs": [],
   "source": [
    "raw_tindex['base_name'] = raw_tindex.location.apply(lambda x: Path(x).stem)"
   ]
  },
  {
   "cell_type": "code",
   "execution_count": 49,
   "metadata": {},
   "outputs": [
    {
     "data": {
      "application/vnd.jupyter.widget-view+json": {
       "model_id": "248668ef1a0c403f8afbd7d89c044e82",
       "version_major": 2,
       "version_minor": 0
      },
      "text/plain": [
       "Processing denoise:   0%|          | 0/2 [00:00<?, ?it/s]"
      ]
     },
     "metadata": {},
     "output_type": "display_data"
    },
    {
     "data": {
      "application/vnd.jupyter.widget-view+json": {
       "model_id": "c98408fb932e4bc1bad7c39e6a7d421f",
       "version_major": 2,
       "version_minor": 0
      },
      "text/plain": [
       "Processing ground:   0%|          | 0/2 [00:00<?, ?it/s]"
      ]
     },
     "metadata": {},
     "output_type": "display_data"
    },
    {
     "data": {
      "application/vnd.jupyter.widget-view+json": {
       "model_id": "e3ada24dbd4a448e8cb0b2a3278374d1",
       "version_major": 2,
       "version_minor": 0
      },
      "text/plain": [
       "Processing dtm:   0%|          | 0/2 [00:00<?, ?it/s]"
      ]
     },
     "metadata": {},
     "output_type": "display_data"
    },
    {
     "data": {
      "application/vnd.jupyter.widget-view+json": {
       "model_id": "0a7ba96ba165420abc65877aad8a6016",
       "version_major": 2,
       "version_minor": 0
      },
      "text/plain": [
       "Processing norm:   0%|          | 0/2 [00:00<?, ?it/s]"
      ]
     },
     "metadata": {},
     "output_type": "display_data"
    },
    {
     "data": {
      "application/vnd.jupyter.widget-view+json": {
       "model_id": "8225c4637c60441f9b3744fb67f7ad02",
       "version_major": 2,
       "version_minor": 0
      },
      "text/plain": [
       "Processing chm:   0%|          | 0/2 [00:00<?, ?it/s]"
      ]
     },
     "metadata": {},
     "output_type": "display_data"
    }
   ],
   "source": [
    "processing_pipeline(raw_tindex.iloc[:2])"
   ]
  },
  {
   "cell_type": "code",
   "execution_count": 57,
   "metadata": {},
   "outputs": [
    {
     "data": {
      "application/vnd.jupyter.widget-view+json": {
       "model_id": "dd70f4792ba6465f9c1c73acd2c1e732",
       "version_major": 2,
       "version_minor": 0
      },
      "text/plain": [
       "Processing denoise:   0%|          | 0/98 [00:00<?, ?it/s]"
      ]
     },
     "metadata": {},
     "output_type": "display_data"
    },
    {
     "data": {
      "application/vnd.jupyter.widget-view+json": {
       "model_id": "8adbb7172404444ea92109dc824f483c",
       "version_major": 2,
       "version_minor": 0
      },
      "text/plain": [
       "Processing ground:   0%|          | 0/98 [00:00<?, ?it/s]"
      ]
     },
     "metadata": {},
     "output_type": "display_data"
    },
    {
     "data": {
      "application/vnd.jupyter.widget-view+json": {
       "model_id": "1b440deb0e4747a280bb0190b59480da",
       "version_major": 2,
       "version_minor": 0
      },
      "text/plain": [
       "Processing dtm:   0%|          | 0/98 [00:00<?, ?it/s]"
      ]
     },
     "metadata": {},
     "output_type": "display_data"
    },
    {
     "data": {
      "application/vnd.jupyter.widget-view+json": {
       "model_id": "e6eabce3dccb42ff926fb8ba989e1821",
       "version_major": 2,
       "version_minor": 0
      },
      "text/plain": [
       "Processing norm:   0%|          | 0/98 [00:00<?, ?it/s]"
      ]
     },
     "metadata": {},
     "output_type": "display_data"
    },
    {
     "name": "stderr",
     "output_type": "stream",
     "text": [
      "PDAL: All points collinear\n",
      "\n"
     ]
    },
    {
     "name": "stdout",
     "output_type": "stream",
     "text": [
      "Error processing /run/media/simone/Extreme SSD/spanish-lidar/lidar_cant/1_denoised_lidar/denoise__PNOA_2023_CANT_378-4774_NPC02.copc.laz: Command '['pdal', 'pipeline', 'pipeline_norm.json', '--readers.copc.filename', '/run/media/simone/Extreme SSD/spanish-lidar/lidar_cant/1_denoised_lidar/denoise__PNOA_2023_CANT_378-4774_NPC02.copc.laz', '--writers.copc.filename', '/run/media/simone/Extreme SSD/spanish-lidar/lidar_cant/4_norm_lidar/norm__PNOA_2023_CANT_378-4774_NPC02.copc.laz', '--stage.hag.filename', '/run/media/simone/Extreme SSD/spanish-lidar/lidar_cant/4_norm_lidar/hag/hag__PNOA_2023_CANT_378-4774_NPC02.copc.laz']' returned non-zero exit status 1.\n"
     ]
    },
    {
     "name": "stderr",
     "output_type": "stream",
     "text": [
      "PDAL: All points collinear\n",
      "\n"
     ]
    },
    {
     "name": "stdout",
     "output_type": "stream",
     "text": [
      "Error processing /run/media/simone/Extreme SSD/spanish-lidar/lidar_cant/1_denoised_lidar/denoise__PNOA_2023_CANT_380-4775_NPC02.copc.laz: Command '['pdal', 'pipeline', 'pipeline_norm.json', '--readers.copc.filename', '/run/media/simone/Extreme SSD/spanish-lidar/lidar_cant/1_denoised_lidar/denoise__PNOA_2023_CANT_380-4775_NPC02.copc.laz', '--writers.copc.filename', '/run/media/simone/Extreme SSD/spanish-lidar/lidar_cant/4_norm_lidar/norm__PNOA_2023_CANT_380-4775_NPC02.copc.laz', '--stage.hag.filename', '/run/media/simone/Extreme SSD/spanish-lidar/lidar_cant/4_norm_lidar/hag/hag__PNOA_2023_CANT_380-4775_NPC02.copc.laz']' returned non-zero exit status 1.\n"
     ]
    },
    {
     "name": "stderr",
     "output_type": "stream",
     "text": [
      "PDAL: All points collinear\n",
      "\n"
     ]
    },
    {
     "name": "stdout",
     "output_type": "stream",
     "text": [
      "Error processing /run/media/simone/Extreme SSD/spanish-lidar/lidar_cant/1_denoised_lidar/denoise__PNOA_2023_CANT_372-4777_NPC02.copc.laz: Command '['pdal', 'pipeline', 'pipeline_norm.json', '--readers.copc.filename', '/run/media/simone/Extreme SSD/spanish-lidar/lidar_cant/1_denoised_lidar/denoise__PNOA_2023_CANT_372-4777_NPC02.copc.laz', '--writers.copc.filename', '/run/media/simone/Extreme SSD/spanish-lidar/lidar_cant/4_norm_lidar/norm__PNOA_2023_CANT_372-4777_NPC02.copc.laz', '--stage.hag.filename', '/run/media/simone/Extreme SSD/spanish-lidar/lidar_cant/4_norm_lidar/hag/hag__PNOA_2023_CANT_372-4777_NPC02.copc.laz']' returned non-zero exit status 1.\n"
     ]
    },
    {
     "name": "stderr",
     "output_type": "stream",
     "text": [
      "PDAL: All points collinear\n",
      "\n"
     ]
    },
    {
     "name": "stdout",
     "output_type": "stream",
     "text": [
      "Error processing /run/media/simone/Extreme SSD/spanish-lidar/lidar_cant/1_denoised_lidar/denoise__PNOA_2023_CANT_374-4776_NPC02.copc.laz: Command '['pdal', 'pipeline', 'pipeline_norm.json', '--readers.copc.filename', '/run/media/simone/Extreme SSD/spanish-lidar/lidar_cant/1_denoised_lidar/denoise__PNOA_2023_CANT_374-4776_NPC02.copc.laz', '--writers.copc.filename', '/run/media/simone/Extreme SSD/spanish-lidar/lidar_cant/4_norm_lidar/norm__PNOA_2023_CANT_374-4776_NPC02.copc.laz', '--stage.hag.filename', '/run/media/simone/Extreme SSD/spanish-lidar/lidar_cant/4_norm_lidar/hag/hag__PNOA_2023_CANT_374-4776_NPC02.copc.laz']' returned non-zero exit status 1.\n"
     ]
    },
    {
     "name": "stderr",
     "output_type": "stream",
     "text": [
      "PDAL: All points collinear\n",
      "\n"
     ]
    },
    {
     "name": "stdout",
     "output_type": "stream",
     "text": [
      "Error processing /run/media/simone/Extreme SSD/spanish-lidar/lidar_cant/1_denoised_lidar/denoise__PNOA_2023_CANT_375-4777_NPC02.copc.laz: Command '['pdal', 'pipeline', 'pipeline_norm.json', '--readers.copc.filename', '/run/media/simone/Extreme SSD/spanish-lidar/lidar_cant/1_denoised_lidar/denoise__PNOA_2023_CANT_375-4777_NPC02.copc.laz', '--writers.copc.filename', '/run/media/simone/Extreme SSD/spanish-lidar/lidar_cant/4_norm_lidar/norm__PNOA_2023_CANT_375-4777_NPC02.copc.laz', '--stage.hag.filename', '/run/media/simone/Extreme SSD/spanish-lidar/lidar_cant/4_norm_lidar/hag/hag__PNOA_2023_CANT_375-4777_NPC02.copc.laz']' returned non-zero exit status 1.\n"
     ]
    },
    {
     "data": {
      "application/vnd.jupyter.widget-view+json": {
       "model_id": "241e834ac78445849bb5f2ef6c68a06c",
       "version_major": 2,
       "version_minor": 0
      },
      "text/plain": [
       "Processing chm:   0%|          | 0/98 [00:00<?, ?it/s]"
      ]
     },
     "metadata": {},
     "output_type": "display_data"
    },
    {
     "name": "stderr",
     "output_type": "stream",
     "text": [
      "PDAL: Unable to open '/run/media/simone/Extreme SSD/spanish-lidar/lidar_cant/4_norm_lidar/norm__PNOA_2023_CANT_378-4774_NPC02.copc.laz'. File does not exist.\n",
      "\n"
     ]
    },
    {
     "name": "stdout",
     "output_type": "stream",
     "text": [
      "Error processing /run/media/simone/Extreme SSD/spanish-lidar/lidar_cant/4_norm_lidar/norm__PNOA_2023_CANT_378-4774_NPC02.copc.laz: Command '['pdal', 'pipeline', 'pipeline_chm.json', '--readers.copc.filename', '/run/media/simone/Extreme SSD/spanish-lidar/lidar_cant/4_norm_lidar/norm__PNOA_2023_CANT_378-4774_NPC02.copc.laz', '--writers.gdal.filename', '/run/media/simone/Extreme SSD/spanish-lidar/lidar_cant/5_chm_raster/chm__PNOA_2023_CANT_378-4774_NPC02.tif']' returned non-zero exit status 1.\n"
     ]
    },
    {
     "name": "stderr",
     "output_type": "stream",
     "text": [
      "PDAL: Unable to open '/run/media/simone/Extreme SSD/spanish-lidar/lidar_cant/4_norm_lidar/norm__PNOA_2023_CANT_380-4775_NPC02.copc.laz'. File does not exist.\n",
      "\n"
     ]
    },
    {
     "name": "stdout",
     "output_type": "stream",
     "text": [
      "Error processing /run/media/simone/Extreme SSD/spanish-lidar/lidar_cant/4_norm_lidar/norm__PNOA_2023_CANT_380-4775_NPC02.copc.laz: Command '['pdal', 'pipeline', 'pipeline_chm.json', '--readers.copc.filename', '/run/media/simone/Extreme SSD/spanish-lidar/lidar_cant/4_norm_lidar/norm__PNOA_2023_CANT_380-4775_NPC02.copc.laz', '--writers.gdal.filename', '/run/media/simone/Extreme SSD/spanish-lidar/lidar_cant/5_chm_raster/chm__PNOA_2023_CANT_380-4775_NPC02.tif']' returned non-zero exit status 1.\n"
     ]
    },
    {
     "name": "stderr",
     "output_type": "stream",
     "text": [
      "PDAL: Unable to open '/run/media/simone/Extreme SSD/spanish-lidar/lidar_cant/4_norm_lidar/norm__PNOA_2023_CANT_372-4777_NPC02.copc.laz'. File does not exist.\n",
      "\n"
     ]
    },
    {
     "name": "stdout",
     "output_type": "stream",
     "text": [
      "Error processing /run/media/simone/Extreme SSD/spanish-lidar/lidar_cant/4_norm_lidar/norm__PNOA_2023_CANT_372-4777_NPC02.copc.laz: Command '['pdal', 'pipeline', 'pipeline_chm.json', '--readers.copc.filename', '/run/media/simone/Extreme SSD/spanish-lidar/lidar_cant/4_norm_lidar/norm__PNOA_2023_CANT_372-4777_NPC02.copc.laz', '--writers.gdal.filename', '/run/media/simone/Extreme SSD/spanish-lidar/lidar_cant/5_chm_raster/chm__PNOA_2023_CANT_372-4777_NPC02.tif']' returned non-zero exit status 1.\n"
     ]
    },
    {
     "name": "stderr",
     "output_type": "stream",
     "text": [
      "PDAL: Unable to open '/run/media/simone/Extreme SSD/spanish-lidar/lidar_cant/4_norm_lidar/norm__PNOA_2023_CANT_374-4776_NPC02.copc.laz'. File does not exist.\n",
      "\n"
     ]
    },
    {
     "name": "stdout",
     "output_type": "stream",
     "text": [
      "Error processing /run/media/simone/Extreme SSD/spanish-lidar/lidar_cant/4_norm_lidar/norm__PNOA_2023_CANT_374-4776_NPC02.copc.laz: Command '['pdal', 'pipeline', 'pipeline_chm.json', '--readers.copc.filename', '/run/media/simone/Extreme SSD/spanish-lidar/lidar_cant/4_norm_lidar/norm__PNOA_2023_CANT_374-4776_NPC02.copc.laz', '--writers.gdal.filename', '/run/media/simone/Extreme SSD/spanish-lidar/lidar_cant/5_chm_raster/chm__PNOA_2023_CANT_374-4776_NPC02.tif']' returned non-zero exit status 1.\n"
     ]
    },
    {
     "name": "stderr",
     "output_type": "stream",
     "text": [
      "PDAL: Unable to open '/run/media/simone/Extreme SSD/spanish-lidar/lidar_cant/4_norm_lidar/norm__PNOA_2023_CANT_375-4777_NPC02.copc.laz'. File does not exist.\n",
      "\n"
     ]
    },
    {
     "name": "stdout",
     "output_type": "stream",
     "text": [
      "Error processing /run/media/simone/Extreme SSD/spanish-lidar/lidar_cant/4_norm_lidar/norm__PNOA_2023_CANT_375-4777_NPC02.copc.laz: Command '['pdal', 'pipeline', 'pipeline_chm.json', '--readers.copc.filename', '/run/media/simone/Extreme SSD/spanish-lidar/lidar_cant/4_norm_lidar/norm__PNOA_2023_CANT_375-4777_NPC02.copc.laz', '--writers.gdal.filename', '/run/media/simone/Extreme SSD/spanish-lidar/lidar_cant/5_chm_raster/chm__PNOA_2023_CANT_375-4777_NPC02.tif']' returned non-zero exit status 1.\n"
     ]
    }
   ],
   "source": [
    "processing_pipeline(raw_tindex, max_workers=12)"
   ]
  },
  {
   "cell_type": "code",
   "execution_count": null,
   "metadata": {},
   "outputs": [],
   "source": []
  }
 ],
 "metadata": {
  "kernelspec": {
   "display_name": "default",
   "language": "python",
   "name": "python3"
  },
  "language_info": {
   "codemirror_mode": {
    "name": "ipython",
    "version": 3
   },
   "file_extension": ".py",
   "mimetype": "text/x-python",
   "name": "python",
   "nbconvert_exporter": "python",
   "pygments_lexer": "ipython3",
   "version": "3.13.2"
  }
 },
 "nbformat": 4,
 "nbformat_minor": 2
}
